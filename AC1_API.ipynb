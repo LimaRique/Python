{
  "nbformat": 4,
  "nbformat_minor": 0,
  "metadata": {
    "colab": {
      "provenance": []
    },
    "kernelspec": {
      "name": "python3",
      "display_name": "Python 3"
    },
    "language_info": {
      "name": "python"
    }
  },
  "cells": [
    {
      "cell_type": "markdown",
      "source": [
        "HENRIQUE CABRAL DE LIMA             23011121\n"
      ],
      "metadata": {
        "id": "gZdLZtMXpMto"
      }
    },
    {
      "cell_type": "code",
      "execution_count": 3,
      "metadata": {
        "id": "QWGxkk-Imxfd"
      },
      "outputs": [],
      "source": [
        "import requests"
      ]
    },
    {
      "cell_type": "code",
      "source": [
        "def EF():\n",
        " global erro\n",
        " erro = input(\"Não foi possível realizar a procura das fotos por conta de erro de digitação. Você deseja tentar novamente?\")\n",
        " erro.lower\n",
        " if erro in \"ssimSIMSimsImsiMSIm\":\n",
        "    verificação_RA()\n",
        " else:\n",
        "    print(\"Obrigado por usar meu código! Adeus!\")"
      ],
      "metadata": {
        "id": "Y8ETQc-1PriS"
      },
      "execution_count": 46,
      "outputs": []
    },
    {
      "cell_type": "code",
      "source": [
        "RA = \"\"\n",
        "def verificação_RA():\n",
        " global ultimo_digito\n",
        " global erro\n",
        " global data\n",
        " RA = str(input(\"Digite seu RA para que seja possível coletar a foto da nasa: \"))\n",
        " if len(RA) == 8:\n",
        "  RAu = int(RA)\n",
        "  ultimo_digito = RAu % 10\n",
        "  dia = str(input(\"Agora digite o dia que você deseja: (Digite em DD. Exemplo: dia dois = 02)\\n\"))\n",
        "  if len(dia) == 2 or len(dia) == 1:\n",
        "    dia = int\n",
        "    mês = str(input(\"Agora digite o mês que você deseja: (Digite em MM. Exemplo: fevereiro = 02)\\n\"))\n",
        "    if len(mês) == 2 or len(mês) == 1:\n",
        "      mês = int\n",
        "      ano = str(input(\"Agora digite o mês que você deseja: (Não pode ser um ano futuro e nem antes de 1970.\\n) \"))\n",
        "      if len(ano) == 4:\n",
        "       ano = int\n",
        "       data = (f'{ano}-{mês}-{dia}')\n",
        "       print(\"Ok, calculando...\")\n",
        "       nasa()\n",
        "      else:\n",
        "       EF()\n",
        "    else:\n",
        "     EF()\n",
        "  else:\n",
        "   EF()\n",
        "\n",
        " else:\n",
        "   EF()\n",
        "verificação_RA()"
      ],
      "metadata": {
        "id": "0N950NFioCXW",
        "colab": {
          "base_uri": "https://localhost:8080/",
          "height": 321
        },
        "outputId": "e2627416-f0bc-4df4-8368-fcd7d8a9b514"
      },
      "execution_count": 63,
      "outputs": [
        {
          "output_type": "error",
          "ename": "KeyboardInterrupt",
          "evalue": "Interrupted by user",
          "traceback": [
            "\u001b[0;31m---------------------------------------------------------------------------\u001b[0m",
            "\u001b[0;31mKeyboardInterrupt\u001b[0m                         Traceback (most recent call last)",
            "\u001b[0;32m<ipython-input-63-c7f8e9b0da73>\u001b[0m in \u001b[0;36m<cell line: 30>\u001b[0;34m()\u001b[0m\n\u001b[1;32m     28\u001b[0m  \u001b[0;32melse\u001b[0m\u001b[0;34m:\u001b[0m\u001b[0;34m\u001b[0m\u001b[0;34m\u001b[0m\u001b[0m\n\u001b[1;32m     29\u001b[0m    \u001b[0mEF\u001b[0m\u001b[0;34m(\u001b[0m\u001b[0;34m)\u001b[0m\u001b[0;34m\u001b[0m\u001b[0;34m\u001b[0m\u001b[0m\n\u001b[0;32m---> 30\u001b[0;31m \u001b[0mverificação_RA\u001b[0m\u001b[0;34m(\u001b[0m\u001b[0;34m)\u001b[0m\u001b[0;34m\u001b[0m\u001b[0;34m\u001b[0m\u001b[0m\n\u001b[0m",
            "\u001b[0;32m<ipython-input-63-c7f8e9b0da73>\u001b[0m in \u001b[0;36mverificação_RA\u001b[0;34m()\u001b[0m\n\u001b[1;32m      3\u001b[0m  \u001b[0;32mglobal\u001b[0m \u001b[0merro\u001b[0m\u001b[0;34m\u001b[0m\u001b[0;34m\u001b[0m\u001b[0m\n\u001b[1;32m      4\u001b[0m  \u001b[0;32mglobal\u001b[0m \u001b[0mdata\u001b[0m\u001b[0;34m\u001b[0m\u001b[0;34m\u001b[0m\u001b[0m\n\u001b[0;32m----> 5\u001b[0;31m  \u001b[0mRA\u001b[0m \u001b[0;34m=\u001b[0m \u001b[0mstr\u001b[0m\u001b[0;34m(\u001b[0m\u001b[0minput\u001b[0m\u001b[0;34m(\u001b[0m\u001b[0;34m\"Digite seu RA para que seja possível coletar a foto da nasa: \"\u001b[0m\u001b[0;34m)\u001b[0m\u001b[0;34m)\u001b[0m\u001b[0;34m\u001b[0m\u001b[0;34m\u001b[0m\u001b[0m\n\u001b[0m\u001b[1;32m      6\u001b[0m  \u001b[0;32mif\u001b[0m \u001b[0mlen\u001b[0m\u001b[0;34m(\u001b[0m\u001b[0mRA\u001b[0m\u001b[0;34m)\u001b[0m \u001b[0;34m==\u001b[0m \u001b[0;36m8\u001b[0m\u001b[0;34m:\u001b[0m\u001b[0;34m\u001b[0m\u001b[0;34m\u001b[0m\u001b[0m\n\u001b[1;32m      7\u001b[0m   \u001b[0mRAu\u001b[0m \u001b[0;34m=\u001b[0m \u001b[0mint\u001b[0m\u001b[0;34m(\u001b[0m\u001b[0mRA\u001b[0m\u001b[0;34m)\u001b[0m\u001b[0;34m\u001b[0m\u001b[0;34m\u001b[0m\u001b[0m\n",
            "\u001b[0;32m/usr/local/lib/python3.10/dist-packages/ipykernel/kernelbase.py\u001b[0m in \u001b[0;36mraw_input\u001b[0;34m(self, prompt)\u001b[0m\n\u001b[1;32m    849\u001b[0m                 \u001b[0;34m\"raw_input was called, but this frontend does not support input requests.\"\u001b[0m\u001b[0;34m\u001b[0m\u001b[0;34m\u001b[0m\u001b[0m\n\u001b[1;32m    850\u001b[0m             )\n\u001b[0;32m--> 851\u001b[0;31m         return self._input_request(str(prompt),\n\u001b[0m\u001b[1;32m    852\u001b[0m             \u001b[0mself\u001b[0m\u001b[0;34m.\u001b[0m\u001b[0m_parent_ident\u001b[0m\u001b[0;34m,\u001b[0m\u001b[0;34m\u001b[0m\u001b[0;34m\u001b[0m\u001b[0m\n\u001b[1;32m    853\u001b[0m             \u001b[0mself\u001b[0m\u001b[0;34m.\u001b[0m\u001b[0m_parent_header\u001b[0m\u001b[0;34m,\u001b[0m\u001b[0;34m\u001b[0m\u001b[0;34m\u001b[0m\u001b[0m\n",
            "\u001b[0;32m/usr/local/lib/python3.10/dist-packages/ipykernel/kernelbase.py\u001b[0m in \u001b[0;36m_input_request\u001b[0;34m(self, prompt, ident, parent, password)\u001b[0m\n\u001b[1;32m    893\u001b[0m             \u001b[0;32mexcept\u001b[0m \u001b[0mKeyboardInterrupt\u001b[0m\u001b[0;34m:\u001b[0m\u001b[0;34m\u001b[0m\u001b[0;34m\u001b[0m\u001b[0m\n\u001b[1;32m    894\u001b[0m                 \u001b[0;31m# re-raise KeyboardInterrupt, to truncate traceback\u001b[0m\u001b[0;34m\u001b[0m\u001b[0;34m\u001b[0m\u001b[0m\n\u001b[0;32m--> 895\u001b[0;31m                 \u001b[0;32mraise\u001b[0m \u001b[0mKeyboardInterrupt\u001b[0m\u001b[0;34m(\u001b[0m\u001b[0;34m\"Interrupted by user\"\u001b[0m\u001b[0;34m)\u001b[0m \u001b[0;32mfrom\u001b[0m \u001b[0;32mNone\u001b[0m\u001b[0;34m\u001b[0m\u001b[0;34m\u001b[0m\u001b[0m\n\u001b[0m\u001b[1;32m    896\u001b[0m             \u001b[0;32mexcept\u001b[0m \u001b[0mException\u001b[0m \u001b[0;32mas\u001b[0m \u001b[0me\u001b[0m\u001b[0;34m:\u001b[0m\u001b[0;34m\u001b[0m\u001b[0;34m\u001b[0m\u001b[0m\n\u001b[1;32m    897\u001b[0m                 \u001b[0mself\u001b[0m\u001b[0;34m.\u001b[0m\u001b[0mlog\u001b[0m\u001b[0;34m.\u001b[0m\u001b[0mwarning\u001b[0m\u001b[0;34m(\u001b[0m\u001b[0;34m\"Invalid Message:\"\u001b[0m\u001b[0;34m,\u001b[0m \u001b[0mexc_info\u001b[0m\u001b[0;34m=\u001b[0m\u001b[0;32mTrue\u001b[0m\u001b[0;34m)\u001b[0m\u001b[0;34m\u001b[0m\u001b[0;34m\u001b[0m\u001b[0m\n",
            "\u001b[0;31mKeyboardInterrupt\u001b[0m: Interrupted by user"
          ]
        }
      ]
    },
    {
      "cell_type": "code",
      "source": [
        "def nasa():\n",
        "  global ultimo_digito\n",
        "  global nome_robo\n",
        "  nome_robo = 0\n",
        "  if ultimo_digito == 1:\n",
        "    pergunta1 = input('''\n",
        "    Cada foto foi tirada por um robô específico. Você tem as 3 opções de robôs para escolher, qual você deseja?\n",
        "    Digite 1 para escolher o Curiosity:\n",
        "    Digite 2 para escolher o Opportunity:\n",
        "    Digite 3 Para escolher o Spirit: \\n''')\n",
        "    if pergunta1 == 1:\n",
        "      nome_robo = \"curiosity\"\n",
        "    elif pergunta1 == 2:\n",
        "      nome_robo = \"opportunity\"\n",
        "    elif pergunta1 == 3:\n",
        "      nome_robo = \"spirit\"\n",
        "\n",
        "\n",
        "  elif ultimo_digito == 2:\n",
        "     pergunta2 = input('''\n",
        "    Cada foto foi tirada por um robô específico. Você tem as 3 opções de robôs para escolher, qual você deseja?\n",
        "    Digite 1 para escolher o Curiosity:\n",
        "    Digite 2 para escolher o Opportunity:\n",
        "    Digite 3 Para escolher o Spirit: \\n''')\n",
        "     if pergunta2 == 1:\n",
        "      nome_robo = \"curiosity\"\n",
        "     elif pergunta2 == 2:\n",
        "      nome_robo = \"opportunity\"\n",
        "     elif pergunta1 == 3:\n",
        "      nome_robo = \"spirit\"\n",
        "\n",
        "  elif ultimo_digito == 3:\n",
        "    pergunta3 = print('''\n",
        "    Cada foto foi tirada por um robô específico. Você tem apenas uma opção de robô, qual na qual é o Curiosity. ''')\n",
        "    nome_robo = \"curiosity\"\n",
        "\n",
        "  elif ultimo_digito == 4:\n",
        "    pergunta4 = print('''\n",
        "    Cada foto foi tirada por um robô específico. Você tem apenas uma opção de robô, qual na qual é o Curiosity. ''')\n",
        "    nome_robo = \"curiosity\"\n",
        "\n",
        "  elif ultimo_digito == 5:\n",
        "    pergunta5 = print('''\n",
        "    Cada foto foi tirada por um robô específico. Você tem apenas uma opção de robô, qual na qual é o Curiosity.  ''')\n",
        "    nome_robo = \"curiosity\"\n",
        "\n",
        "  elif ultimo_digito == 6:\n",
        "    pergunta6 = print('''\n",
        "    Cada foto foi tirada por um robô específico. Você tem apenas uma opção de robô, qual na qual é o Curiosity.  ''')\n",
        "    nome_robo = \"curiosity\"\n",
        "\n",
        "  elif ultimo_digito == 7:\n",
        "     pergunta2 = input('''\n",
        "    Cada foto foi tirada por um robô específico. Você tem as 3 opções de robôs para escolher, qual você deseja?\n",
        "    Digite 1 para escolher o Curiosity:\n",
        "    Digite 2 para escolher o Opportunity:\n",
        "    Digite 3 Para escolher o Spirit: \\n''')\n",
        "     if pergunta7 == 1:\n",
        "      nome_robo = \"curiosity\"\n",
        "     elif pergunta7 == 2:\n",
        "      nome_robo = \"opportunity\"\n",
        "     elif pergunta7 == 3:\n",
        "      nome_robo = \"spirit\"\n",
        "\n",
        "  elif ultimo_digito == 8:\n",
        "     pergunta8 = input('''\n",
        "    Cada foto foi tirada por um robô específico. Você tem 2 opções de robôs para escolher, qual você deseja?\n",
        "    Digite 1 para escolher o Opportunity:\n",
        "    Digite 2 Para escolher o Spirit: \\n''')\n",
        "     if pergunta8 == 1:\n",
        "      nome_robo = \"opportunity\"\n",
        "     elif pergunta8 == 2:\n",
        "      nome_robo = \"spirit\"\n",
        "\n",
        "  elif ultimo_digito == 9 or ultimo_digito == 0:\n",
        "     pergunta9 = input('''\n",
        "    Cada foto foi tirada por um robô específico. Você tem 2 opções de robôs para escolher, qual você deseja?\n",
        "    Digite 1 para escolher o Opportunity:\n",
        "    Digite 2 Para escolher o Spirit: \\n''')\n",
        "     if pergunta8 == 1:\n",
        "      nome_robo = \"opportunity\"\n",
        "     elif pergunta8 == 2:\n",
        "      nome_robo = \"spirit\"\n",
        "nasa()"
      ],
      "metadata": {
        "id": "vv8eDBbSsRtU",
        "colab": {
          "base_uri": "https://localhost:8080/",
          "height": 321
        },
        "outputId": "55c19020-b964-42ec-a9b2-2fa11ab70b9b"
      },
      "execution_count": 65,
      "outputs": [
        {
          "output_type": "error",
          "ename": "KeyboardInterrupt",
          "evalue": "Interrupted by user",
          "traceback": [
            "\u001b[0;31m---------------------------------------------------------------------------\u001b[0m",
            "\u001b[0;31mKeyboardInterrupt\u001b[0m                         Traceback (most recent call last)",
            "\u001b[0;32m<ipython-input-65-b10e103b5c38>\u001b[0m in \u001b[0;36m<cell line: 84>\u001b[0;34m()\u001b[0m\n\u001b[1;32m     82\u001b[0m      \u001b[0;32melif\u001b[0m \u001b[0mpergunta8\u001b[0m \u001b[0;34m==\u001b[0m \u001b[0;36m2\u001b[0m\u001b[0;34m:\u001b[0m\u001b[0;34m\u001b[0m\u001b[0;34m\u001b[0m\u001b[0m\n\u001b[1;32m     83\u001b[0m       \u001b[0mnome_robo\u001b[0m \u001b[0;34m=\u001b[0m \u001b[0;34m\"spirit\"\u001b[0m\u001b[0;34m\u001b[0m\u001b[0;34m\u001b[0m\u001b[0m\n\u001b[0;32m---> 84\u001b[0;31m \u001b[0mnasa\u001b[0m\u001b[0;34m(\u001b[0m\u001b[0;34m)\u001b[0m\u001b[0;34m\u001b[0m\u001b[0;34m\u001b[0m\u001b[0m\n\u001b[0m",
            "\u001b[0;32m<ipython-input-65-b10e103b5c38>\u001b[0m in \u001b[0;36mnasa\u001b[0;34m()\u001b[0m\n\u001b[1;32m      4\u001b[0m   \u001b[0mnome_robo\u001b[0m \u001b[0;34m=\u001b[0m \u001b[0;36m0\u001b[0m\u001b[0;34m\u001b[0m\u001b[0;34m\u001b[0m\u001b[0m\n\u001b[1;32m      5\u001b[0m   \u001b[0;32mif\u001b[0m \u001b[0multimo_digito\u001b[0m \u001b[0;34m==\u001b[0m \u001b[0;36m1\u001b[0m\u001b[0;34m:\u001b[0m\u001b[0;34m\u001b[0m\u001b[0;34m\u001b[0m\u001b[0m\n\u001b[0;32m----> 6\u001b[0;31m     pergunta1 = input('''\n\u001b[0m\u001b[1;32m      7\u001b[0m     \u001b[0mCada\u001b[0m \u001b[0mfoto\u001b[0m \u001b[0mfoi\u001b[0m \u001b[0mtirada\u001b[0m \u001b[0mpor\u001b[0m \u001b[0mum\u001b[0m \u001b[0mrobô\u001b[0m \u001b[0mespecífico\u001b[0m\u001b[0;34m.\u001b[0m \u001b[0mVocê\u001b[0m \u001b[0mtem\u001b[0m \u001b[0;32mas\u001b[0m \u001b[0;36m3\u001b[0m \u001b[0mopções\u001b[0m \u001b[0mde\u001b[0m \u001b[0mrobôs\u001b[0m \u001b[0mpara\u001b[0m \u001b[0mescolher\u001b[0m\u001b[0;34m,\u001b[0m \u001b[0mqual\u001b[0m \u001b[0mvocê\u001b[0m \u001b[0mdeseja\u001b[0m\u001b[0;31m?\u001b[0m\u001b[0;34m\u001b[0m\u001b[0;34m\u001b[0m\u001b[0m\n\u001b[1;32m      8\u001b[0m     \u001b[0mDigite\u001b[0m \u001b[0;36m1\u001b[0m \u001b[0mpara\u001b[0m \u001b[0mescolher\u001b[0m \u001b[0mo\u001b[0m \u001b[0mCuriosity\u001b[0m\u001b[0;34m:\u001b[0m\u001b[0;34m\u001b[0m\u001b[0;34m\u001b[0m\u001b[0m\n",
            "\u001b[0;32m/usr/local/lib/python3.10/dist-packages/ipykernel/kernelbase.py\u001b[0m in \u001b[0;36mraw_input\u001b[0;34m(self, prompt)\u001b[0m\n\u001b[1;32m    849\u001b[0m                 \u001b[0;34m\"raw_input was called, but this frontend does not support input requests.\"\u001b[0m\u001b[0;34m\u001b[0m\u001b[0;34m\u001b[0m\u001b[0m\n\u001b[1;32m    850\u001b[0m             )\n\u001b[0;32m--> 851\u001b[0;31m         return self._input_request(str(prompt),\n\u001b[0m\u001b[1;32m    852\u001b[0m             \u001b[0mself\u001b[0m\u001b[0;34m.\u001b[0m\u001b[0m_parent_ident\u001b[0m\u001b[0;34m,\u001b[0m\u001b[0;34m\u001b[0m\u001b[0;34m\u001b[0m\u001b[0m\n\u001b[1;32m    853\u001b[0m             \u001b[0mself\u001b[0m\u001b[0;34m.\u001b[0m\u001b[0m_parent_header\u001b[0m\u001b[0;34m,\u001b[0m\u001b[0;34m\u001b[0m\u001b[0;34m\u001b[0m\u001b[0m\n",
            "\u001b[0;32m/usr/local/lib/python3.10/dist-packages/ipykernel/kernelbase.py\u001b[0m in \u001b[0;36m_input_request\u001b[0;34m(self, prompt, ident, parent, password)\u001b[0m\n\u001b[1;32m    893\u001b[0m             \u001b[0;32mexcept\u001b[0m \u001b[0mKeyboardInterrupt\u001b[0m\u001b[0;34m:\u001b[0m\u001b[0;34m\u001b[0m\u001b[0;34m\u001b[0m\u001b[0m\n\u001b[1;32m    894\u001b[0m                 \u001b[0;31m# re-raise KeyboardInterrupt, to truncate traceback\u001b[0m\u001b[0;34m\u001b[0m\u001b[0;34m\u001b[0m\u001b[0m\n\u001b[0;32m--> 895\u001b[0;31m                 \u001b[0;32mraise\u001b[0m \u001b[0mKeyboardInterrupt\u001b[0m\u001b[0;34m(\u001b[0m\u001b[0;34m\"Interrupted by user\"\u001b[0m\u001b[0;34m)\u001b[0m \u001b[0;32mfrom\u001b[0m \u001b[0;32mNone\u001b[0m\u001b[0;34m\u001b[0m\u001b[0;34m\u001b[0m\u001b[0m\n\u001b[0m\u001b[1;32m    896\u001b[0m             \u001b[0;32mexcept\u001b[0m \u001b[0mException\u001b[0m \u001b[0;32mas\u001b[0m \u001b[0me\u001b[0m\u001b[0;34m:\u001b[0m\u001b[0;34m\u001b[0m\u001b[0;34m\u001b[0m\u001b[0m\n\u001b[1;32m    897\u001b[0m                 \u001b[0mself\u001b[0m\u001b[0;34m.\u001b[0m\u001b[0mlog\u001b[0m\u001b[0;34m.\u001b[0m\u001b[0mwarning\u001b[0m\u001b[0;34m(\u001b[0m\u001b[0;34m\"Invalid Message:\"\u001b[0m\u001b[0;34m,\u001b[0m \u001b[0mexc_info\u001b[0m\u001b[0;34m=\u001b[0m\u001b[0;32mTrue\u001b[0m\u001b[0;34m)\u001b[0m\u001b[0;34m\u001b[0m\u001b[0;34m\u001b[0m\u001b[0m\n",
            "\u001b[0;31mKeyboardInterrupt\u001b[0m: Interrupted by user"
          ]
        }
      ]
    },
    {
      "cell_type": "code",
      "source": [
        "def GET():\n",
        " global nome_robo\n",
        " global data\n",
        " resposta = requests.get(f'https://api.nasa.gov/mars-photos/api/v1/rovers/{nome_robo}/photos?earth_date={data}&api_key=Jd1uGRB76nrov5gwfGwtJzVrbGLe19fqfgw7k9XU')\n",
        " resposta.json()"
      ],
      "metadata": {
        "id": "JMb9T9GGmhxi"
      },
      "execution_count": 67,
      "outputs": []
    },
    {
      "cell_type": "code",
      "source": [
        "\n",
        "def FINAL():\n",
        " global nome_robo\n",
        " global data\n",
        " verificação_RA()\n",
        " GET()\n",
        "FINAL()"
      ],
      "metadata": {
        "id": "eauFcMFvraPa",
        "colab": {
          "base_uri": "https://localhost:8080/"
        },
        "outputId": "8b233532-9d19-4a7b-f4e4-1bfb80dde842"
      },
      "execution_count": 68,
      "outputs": [
        {
          "name": "stdout",
          "output_type": "stream",
          "text": [
            "Digite seu RA para que seja possível coletar a foto da nasa: 23011121\n",
            "Agora digite o dia que você deseja: (Digite em DD. Exemplo: dia dois = 02)\n",
            "2\n",
            "Agora digite o mês que você deseja: (Digite em MM. Exemplo: fevereiro = 02)\n",
            "2\n",
            "Agora digite o mês que você deseja: (Não pode ser um ano futuro e nem antes de 1970.\n",
            ") 2010\n",
            "Ok, calculando...\n",
            "\n",
            "    Cada foto foi tirada por um robô específico. Você tem as 3 opções de robôs para escolher, qual você deseja?\n",
            "    Digite 1 para escolher o Curiosity:\n",
            "    Digite 2 para escolher o Opportunity:\n",
            "    Digite 3 Para escolher o Spirit: \n",
            "1\n"
          ]
        }
      ]
    }
  ]
}